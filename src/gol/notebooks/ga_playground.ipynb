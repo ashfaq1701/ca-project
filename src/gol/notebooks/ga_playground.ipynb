{
 "cells": [
  {
   "cell_type": "code",
   "execution_count": 1,
   "id": "initial_id",
   "metadata": {
    "collapsed": true,
    "ExecuteTime": {
     "end_time": "2024-01-14T03:13:54.061915Z",
     "start_time": "2024-01-14T03:13:53.942669Z"
    }
   },
   "outputs": [],
   "source": [
    "import numpy as np\n",
    "from gol.ga.ga_gol import GAGol"
   ]
  },
  {
   "cell_type": "code",
   "outputs": [],
   "source": [
    "from gol.gol import create_gol_instance_from_board\n",
    "\n",
    "\n",
    "def generate_problem():\n",
    "    \"\"\" Generates example problem \"\"\"\n",
    "    np.random.seed(42)\n",
    "    board = np.random.binomial(1, 0.01, (20, 20)).astype('uint8')\n",
    "    # toad\n",
    "    board[2, 3:6] = 1\n",
    "    board[3, 2:5] = 1\n",
    "    # glider 1\n",
    "    board[9, 5:8] = 1\n",
    "    board[8, 7] = 1\n",
    "    board[7, 6] = 1\n",
    "    # glider 2\n",
    "    board[16, 3:6] = 1\n",
    "    board[15, 5] = 1\n",
    "    board[14, 4] = 1\n",
    "    # beacon 1\n",
    "    board[2:4, 14:16]=1\n",
    "    board[4:6, 16:18]=1\n",
    "    # beacon 2\n",
    "    board[14:16, 14:16]=1\n",
    "    board[16:18, 16:18]=1\n",
    "    \n",
    "    ca = create_gol_instance_from_board(board.copy())\n",
    "    ca.evolve(3)\n",
    "    return board, ca.board"
   ],
   "metadata": {
    "collapsed": false,
    "ExecuteTime": {
     "end_time": "2024-01-14T03:13:54.070283Z",
     "start_time": "2024-01-14T03:13:54.068095Z"
    }
   },
   "id": "ec2617aec98b65d",
   "execution_count": 2
  },
  {
   "cell_type": "code",
   "outputs": [],
   "source": [
    "init_board, target_board = generate_problem()"
   ],
   "metadata": {
    "collapsed": false,
    "ExecuteTime": {
     "end_time": "2024-01-14T03:13:54.089115Z",
     "start_time": "2024-01-14T03:13:54.070477Z"
    }
   },
   "id": "56cb7e63d213b6d9",
   "execution_count": 3
  },
  {
   "cell_type": "code",
   "outputs": [],
   "source": [
    "ga = GAGol(\n",
    "    width=20,\n",
    "    height=20,\n",
    "    target=target_board,\n",
    "    population_size=100,\n",
    "    n_generations=100,\n",
    "    crossover_rate=0.5,\n",
    "    mutation_rate=0.3,\n",
    "    retention_rate=0.6,\n",
    "    steps=3\n",
    ")"
   ],
   "metadata": {
    "collapsed": false,
    "ExecuteTime": {
     "end_time": "2024-01-14T03:13:54.296152Z",
     "start_time": "2024-01-14T03:13:54.294132Z"
    }
   },
   "id": "acd649ba593d9fd1",
   "execution_count": 4
  },
  {
   "cell_type": "code",
   "outputs": [],
   "source": [
    "ga.evolution()"
   ],
   "metadata": {
    "collapsed": false,
    "ExecuteTime": {
     "end_time": "2024-01-14T03:13:55.483398Z",
     "start_time": "2024-01-14T03:13:54.603225Z"
    }
   },
   "id": "21b165625e3cab70",
   "execution_count": 5
  },
  {
   "cell_type": "code",
   "outputs": [
    {
     "data": {
      "text/plain": "[<gol.gol.GameOfLife at 0x106a22750>,\n <gol.gol.GameOfLife at 0x106a23050>,\n <gol.gol.GameOfLife at 0x106a21790>]"
     },
     "execution_count": 6,
     "metadata": {},
     "output_type": "execute_result"
    }
   ],
   "source": [
    "ga.get_top_n_fittest_individuals(3)"
   ],
   "metadata": {
    "collapsed": false,
    "ExecuteTime": {
     "end_time": "2024-01-14T03:13:55.483796Z",
     "start_time": "2024-01-14T03:13:55.479179Z"
    }
   },
   "id": "9b013e59bc12b467",
   "execution_count": 6
  },
  {
   "cell_type": "code",
   "outputs": [],
   "source": [],
   "metadata": {
    "collapsed": false
   },
   "id": "13d8d0ff9f1224ca"
  }
 ],
 "metadata": {
  "kernelspec": {
   "display_name": "Python 3",
   "language": "python",
   "name": "python3"
  },
  "language_info": {
   "codemirror_mode": {
    "name": "ipython",
    "version": 2
   },
   "file_extension": ".py",
   "mimetype": "text/x-python",
   "name": "python",
   "nbconvert_exporter": "python",
   "pygments_lexer": "ipython2",
   "version": "2.7.6"
  }
 },
 "nbformat": 4,
 "nbformat_minor": 5
}
