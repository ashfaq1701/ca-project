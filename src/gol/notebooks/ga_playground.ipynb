{
 "cells": [
  {
   "cell_type": "code",
   "execution_count": 10,
   "id": "initial_id",
   "metadata": {
    "collapsed": true,
    "ExecuteTime": {
     "end_time": "2024-01-14T23:03:45.659728Z",
     "start_time": "2024-01-14T23:03:45.653664Z"
    }
   },
   "outputs": [],
   "source": [
    "import numpy as np\n",
    "from gol.ga.ga_gol import GAGol\n",
    "from gol.gol import create_gol_instance_from_board\n",
    "from visualize import visualize_current_state"
   ]
  },
  {
   "cell_type": "code",
   "outputs": [],
   "source": [
    "def generate_problem():\n",
    "    \"\"\" Generates example problem \"\"\"\n",
    "    np.random.seed(42)\n",
    "    board = np.zeros((20, 20), dtype=int)\n",
    "    \n",
    "    # toad\n",
    "    board[2, 3:6] = 1\n",
    "    board[3, 2:5] = 1\n",
    "    # glider 1\n",
    "    board[9, 5:8] = 1\n",
    "    board[8, 7] = 1\n",
    "    board[7, 6] = 1\n",
    "    # glider 2\n",
    "    board[16, 3:6] = 1\n",
    "    board[15, 5] = 1\n",
    "    board[14, 4] = 1\n",
    "    # beacon 1\n",
    "    board[2:4, 14:16]=1\n",
    "    board[4:6, 16:18]=1\n",
    "    # beacon 2\n",
    "    board[14:16, 14:16]=1\n",
    "    board[16:18, 16:18]=1\n",
    "    \n",
    "    ca = create_gol_instance_from_board(board.copy())\n",
    "    ca.evolve_and_apply(3)\n",
    "    return board, ca"
   ],
   "metadata": {
    "collapsed": false,
    "ExecuteTime": {
     "end_time": "2024-01-14T23:03:46.543473Z",
     "start_time": "2024-01-14T23:03:46.541336Z"
    }
   },
   "id": "ec2617aec98b65d",
   "execution_count": 11
  },
  {
   "cell_type": "code",
   "outputs": [],
   "source": [
    "init_board, target = generate_problem()"
   ],
   "metadata": {
    "collapsed": false,
    "ExecuteTime": {
     "end_time": "2024-01-14T23:03:47.950205Z",
     "start_time": "2024-01-14T23:03:47.947210Z"
    }
   },
   "id": "56cb7e63d213b6d9",
   "execution_count": 12
  },
  {
   "cell_type": "code",
   "outputs": [
    {
     "data": {
      "text/plain": "<Figure size 1000x600 with 1 Axes>",
      "image/png": "[encoded data removed]"
     },
     "metadata": {},
     "output_type": "display_data"
    }
   ],
   "source": [
    "visualize_current_state(target)"
   ],
   "metadata": {
    "collapsed": false,
    "ExecuteTime": {
     "end_time": "2024-01-14T23:03:48.362362Z",
     "start_time": "2024-01-14T23:03:48.327892Z"
    }
   },
   "id": "ad3599212782e6a3",
   "execution_count": 13
  },
  {
   "cell_type": "code",
   "outputs": [],
   "source": [
    "ga = GAGol(\n",
    "    target=target.board,\n",
    "    population_size=200,\n",
    "    n_generations=300,\n",
    "    crossover_rate=0.5,\n",
    "    mutation_rate=0.1,\n",
    "    retention_rate=0.8,\n",
    "    random_selection_rate=0.1,\n",
    "    steps=3\n",
    ")"
   ],
   "metadata": {
    "collapsed": false,
    "ExecuteTime": {
     "end_time": "2024-01-14T23:03:50.169415Z",
     "start_time": "2024-01-14T23:03:49.792216Z"
    }
   },
   "id": "acd649ba593d9fd1",
   "execution_count": 14
  },
  {
   "cell_type": "code",
   "outputs": [
    {
     "name": "stdout",
     "output_type": "stream",
     "text": [
      "Generation 0: Best fitness 0.81\n",
      "Generation 1: Best fitness 0.81\n",
      "Generation 2: Best fitness 0.81\n",
      "Generation 3: Best fitness 0.8175\n",
      "Generation 4: Best fitness 0.8175\n",
      "Generation 5: Best fitness 0.8175\n",
      "Generation 6: Best fitness 0.8175\n",
      "Generation 7: Best fitness 0.8175\n",
      "Generation 8: Best fitness 0.8175\n",
      "Generation 9: Best fitness 0.82\n",
      "Generation 10: Best fitness 0.82\n",
      "Generation 11: Best fitness 0.82\n",
      "Generation 12: Best fitness 0.82\n",
      "Generation 13: Best fitness 0.82\n",
      "Generation 14: Best fitness 0.82\n",
      "Generation 15: Best fitness 0.82\n",
      "Generation 16: Best fitness 0.825\n",
      "Generation 17: Best fitness 0.835\n",
      "Generation 18: Best fitness 0.835\n",
      "Generation 19: Best fitness 0.8375\n",
      "Generation 20: Best fitness 0.8375\n",
      "Generation 21: Best fitness 0.8625\n",
      "Generation 22: Best fitness 0.8625\n",
      "Generation 23: Best fitness 0.8625\n",
      "Generation 24: Best fitness 0.8625\n",
      "Generation 25: Best fitness 0.8625\n",
      "Generation 26: Best fitness 0.8625\n",
      "Generation 27: Best fitness 0.8625\n",
      "Generation 28: Best fitness 0.8625\n",
      "Generation 29: Best fitness 0.8625\n",
      "Generation 30: Best fitness 0.8625\n",
      "Generation 31: Best fitness 0.8625\n",
      "Generation 32: Best fitness 0.8625\n",
      "Generation 33: Best fitness 0.8625\n",
      "Generation 34: Best fitness 0.8625\n",
      "Generation 35: Best fitness 0.8625\n",
      "Generation 36: Best fitness 0.8625\n",
      "Generation 37: Best fitness 0.8625\n",
      "Generation 38: Best fitness 0.8625\n",
      "Generation 39: Best fitness 0.8625\n",
      "Generation 40: Best fitness 0.8625\n",
      "Generation 41: Best fitness 0.8625\n",
      "Generation 42: Best fitness 0.8625\n",
      "Generation 43: Best fitness 0.8625\n",
      "Generation 44: Best fitness 0.8625\n",
      "Generation 45: Best fitness 0.8625\n",
      "Generation 46: Best fitness 0.8625\n",
      "Generation 47: Best fitness 0.8625\n",
      "Generation 48: Best fitness 0.8625\n",
      "Generation 49: Best fitness 0.8625\n",
      "Generation 50: Best fitness 0.8625\n",
      "Generation 51: Best fitness 0.8625\n",
      "Generation 52: Best fitness 0.8625\n",
      "Generation 53: Best fitness 0.8625\n",
      "Generation 54: Best fitness 0.8625\n",
      "Generation 55: Best fitness 0.8625\n",
      "Generation 56: Best fitness 0.8625\n",
      "Generation 57: Best fitness 0.8625\n",
      "Generation 58: Best fitness 0.8625\n",
      "Generation 59: Best fitness 0.8625\n",
      "Generation 60: Best fitness 0.8625\n",
      "Generation 61: Best fitness 0.8625\n",
      "Generation 62: Best fitness 0.8625\n",
      "Generation 63: Best fitness 0.8625\n",
      "Generation 64: Best fitness 0.8625\n",
      "Generation 65: Best fitness 0.8625\n",
      "Generation 66: Best fitness 0.8625\n",
      "Generation 67: Best fitness 0.8625\n",
      "Generation 68: Best fitness 0.8625\n",
      "Generation 69: Best fitness 0.8625\n",
      "Generation 70: Best fitness 0.8625\n",
      "Generation 71: Best fitness 0.8625\n",
      "Generation 72: Best fitness 0.8625\n",
      "Generation 73: Best fitness 0.8625\n",
      "Generation 74: Best fitness 0.8625\n",
      "Generation 75: Best fitness 0.8625\n",
      "Generation 76: Best fitness 0.8625\n",
      "Generation 77: Best fitness 0.8625\n",
      "Generation 78: Best fitness 0.8625\n",
      "Generation 79: Best fitness 0.8625\n",
      "Generation 80: Best fitness 0.8625\n",
      "Generation 81: Best fitness 0.8625\n",
      "Generation 82: Best fitness 0.8625\n",
      "Generation 83: Best fitness 0.8625\n",
      "Generation 84: Best fitness 0.8625\n",
      "Generation 85: Best fitness 0.8625\n",
      "Generation 86: Best fitness 0.8625\n",
      "Generation 87: Best fitness 0.8625\n",
      "Generation 88: Best fitness 0.8625\n",
      "Generation 89: Best fitness 0.8625\n",
      "Generation 90: Best fitness 0.8625\n",
      "Generation 91: Best fitness 0.8625\n",
      "Generation 92: Best fitness 0.8625\n",
      "Generation 93: Best fitness 0.8625\n",
      "Generation 94: Best fitness 0.8625\n",
      "Generation 95: Best fitness 0.8625\n",
      "Generation 96: Best fitness 0.8625\n",
      "Generation 97: Best fitness 0.8625\n",
      "Generation 98: Best fitness 0.8625\n",
      "Generation 99: Best fitness 0.8625\n",
      "Generation 100: Best fitness 0.8625\n",
      "Generation 101: Best fitness 0.8625\n",
      "Generation 102: Best fitness 0.8625\n",
      "Generation 103: Best fitness 0.8625\n",
      "Generation 104: Best fitness 0.8625\n",
      "Generation 105: Best fitness 0.8625\n",
      "Generation 106: Best fitness 0.8625\n",
      "Generation 107: Best fitness 0.8625\n",
      "Generation 108: Best fitness 0.8625\n",
      "Generation 109: Best fitness 0.8625\n",
      "Generation 110: Best fitness 0.8625\n",
      "Generation 111: Best fitness 0.8625\n",
      "Generation 112: Best fitness 0.8625\n",
      "Generation 113: Best fitness 0.8625\n",
      "Generation 114: Best fitness 0.8625\n",
      "Generation 115: Best fitness 0.8625\n",
      "Generation 116: Best fitness 0.8625\n",
      "Generation 117: Best fitness 0.8625\n",
      "Generation 118: Best fitness 0.8625\n",
      "Generation 119: Best fitness 0.8625\n",
      "Generation 120: Best fitness 0.8625\n",
      "Generation 121: Best fitness 0.8625\n",
      "Generation 122: Best fitness 0.8625\n",
      "Generation 123: Best fitness 0.8625\n",
      "Generation 124: Best fitness 0.8625\n",
      "Generation 125: Best fitness 0.8625\n",
      "Generation 126: Best fitness 0.8625\n",
      "Generation 127: Best fitness 0.8625\n",
      "Generation 128: Best fitness 0.8625\n",
      "Generation 129: Best fitness 0.8625\n",
      "Generation 130: Best fitness 0.8625\n",
      "Generation 131: Best fitness 0.8625\n",
      "Generation 132: Best fitness 0.8625\n",
      "Generation 133: Best fitness 0.8625\n",
      "Generation 134: Best fitness 0.8625\n",
      "Generation 135: Best fitness 0.8625\n",
      "Generation 136: Best fitness 0.8625\n",
      "Generation 137: Best fitness 0.8625\n",
      "Generation 138: Best fitness 0.8625\n",
      "Generation 139: Best fitness 0.8625\n",
      "Generation 140: Best fitness 0.8625\n",
      "Generation 141: Best fitness 0.8625\n",
      "Generation 142: Best fitness 0.8625\n",
      "Generation 143: Best fitness 0.8625\n",
      "Generation 144: Best fitness 0.8625\n",
      "Generation 145: Best fitness 0.8625\n",
      "Generation 146: Best fitness 0.8625\n",
      "Generation 147: Best fitness 0.8625\n",
      "Generation 148: Best fitness 0.8625\n",
      "Generation 149: Best fitness 0.8625\n",
      "Generation 150: Best fitness 0.8625\n",
      "Generation 151: Best fitness 0.8625\n",
      "Generation 152: Best fitness 0.8625\n",
      "Generation 153: Best fitness 0.8625\n",
      "Generation 154: Best fitness 0.8625\n",
      "Generation 155: Best fitness 0.8625\n",
      "Generation 156: Best fitness 0.8625\n",
      "Generation 157: Best fitness 0.8625\n",
      "Generation 158: Best fitness 0.8625\n",
      "Generation 159: Best fitness 0.8625\n",
      "Generation 160: Best fitness 0.8625\n",
      "Generation 161: Best fitness 0.8625\n",
      "Generation 162: Best fitness 0.8625\n",
      "Generation 163: Best fitness 0.8625\n",
      "Generation 164: Best fitness 0.8625\n",
      "Generation 165: Best fitness 0.8625\n",
      "Generation 166: Best fitness 0.8625\n",
      "Generation 167: Best fitness 0.8625\n",
      "Generation 168: Best fitness 0.8625\n",
      "Generation 169: Best fitness 0.8625\n",
      "Generation 170: Best fitness 0.8625\n",
      "Generation 171: Best fitness 0.8625\n",
      "Generation 172: Best fitness 0.8625\n",
      "Generation 173: Best fitness 0.8625\n",
      "Generation 174: Best fitness 0.8625\n",
      "Generation 175: Best fitness 0.8625\n",
      "Generation 176: Best fitness 0.8625\n",
      "Generation 177: Best fitness 0.8625\n",
      "Generation 178: Best fitness 0.8625\n",
      "Generation 179: Best fitness 0.8625\n",
      "Generation 180: Best fitness 0.8625\n",
      "Generation 181: Best fitness 0.8625\n",
      "Generation 182: Best fitness 0.8625\n",
      "Generation 183: Best fitness 0.8625\n",
      "Generation 184: Best fitness 0.8625\n",
      "Generation 185: Best fitness 0.8625\n",
      "Generation 186: Best fitness 0.8625\n",
      "Generation 187: Best fitness 0.8625\n",
      "Generation 188: Best fitness 0.8625\n",
      "Generation 189: Best fitness 0.8625\n",
      "Generation 190: Best fitness 0.8625\n",
      "Generation 191: Best fitness 0.8625\n",
      "Generation 192: Best fitness 0.8625\n",
      "Generation 193: Best fitness 0.8625\n",
      "Generation 194: Best fitness 0.8625\n",
      "Generation 195: Best fitness 0.8625\n",
      "Generation 196: Best fitness 0.8625\n",
      "Generation 197: Best fitness 0.8625\n",
      "Generation 198: Best fitness 0.8625\n",
      "Generation 199: Best fitness 0.8625\n",
      "Generation 200: Best fitness 0.8625\n",
      "Generation 201: Best fitness 0.8625\n",
      "Generation 202: Best fitness 0.8625\n",
      "Generation 203: Best fitness 0.8625\n",
      "Generation 204: Best fitness 0.8625\n",
      "Generation 205: Best fitness 0.8625\n",
      "Generation 206: Best fitness 0.8625\n",
      "Generation 207: Best fitness 0.8625\n",
      "Generation 208: Best fitness 0.8625\n",
      "Generation 209: Best fitness 0.8625\n",
      "Generation 210: Best fitness 0.8625\n",
      "Generation 211: Best fitness 0.8625\n",
      "Generation 212: Best fitness 0.8625\n",
      "Generation 213: Best fitness 0.8625\n",
      "Generation 214: Best fitness 0.8625\n",
      "Generation 215: Best fitness 0.8625\n",
      "Generation 216: Best fitness 0.8625\n",
      "Generation 217: Best fitness 0.8625\n",
      "Generation 218: Best fitness 0.8625\n",
      "Generation 219: Best fitness 0.8625\n",
      "Generation 220: Best fitness 0.8625\n",
      "Generation 221: Best fitness 0.8625\n",
      "Generation 222: Best fitness 0.8625\n",
      "Generation 223: Best fitness 0.8625\n",
      "Generation 224: Best fitness 0.8625\n",
      "Generation 225: Best fitness 0.8625\n",
      "Generation 226: Best fitness 0.8625\n",
      "Generation 227: Best fitness 0.8625\n",
      "Generation 228: Best fitness 0.8625\n",
      "Generation 229: Best fitness 0.8625\n",
      "Generation 230: Best fitness 0.8625\n",
      "Generation 231: Best fitness 0.8625\n",
      "Generation 232: Best fitness 0.8625\n",
      "Generation 233: Best fitness 0.8625\n",
      "Generation 234: Best fitness 0.8625\n",
      "Generation 235: Best fitness 0.8625\n",
      "Generation 236: Best fitness 0.8625\n",
      "Generation 237: Best fitness 0.8625\n",
      "Generation 238: Best fitness 0.8625\n",
      "Generation 239: Best fitness 0.8625\n",
      "Generation 240: Best fitness 0.8625\n",
      "Generation 241: Best fitness 0.8625\n",
      "Generation 242: Best fitness 0.8625\n",
      "Generation 243: Best fitness 0.8625\n",
      "Generation 244: Best fitness 0.8625\n",
      "Generation 245: Best fitness 0.8625\n",
      "Generation 246: Best fitness 0.8625\n",
      "Generation 247: Best fitness 0.8625\n",
      "Generation 248: Best fitness 0.8625\n",
      "Generation 249: Best fitness 0.8625\n",
      "Generation 250: Best fitness 0.8625\n",
      "Generation 251: Best fitness 0.8625\n",
      "Generation 252: Best fitness 0.8625\n",
      "Generation 253: Best fitness 0.8625\n",
      "Generation 254: Best fitness 0.8625\n",
      "Generation 255: Best fitness 0.8625\n",
      "Generation 256: Best fitness 0.8625\n",
      "Generation 257: Best fitness 0.8625\n",
      "Generation 258: Best fitness 0.8625\n",
      "Generation 259: Best fitness 0.8625\n",
      "Generation 260: Best fitness 0.8625\n",
      "Generation 261: Best fitness 0.8625\n",
      "Generation 262: Best fitness 0.8625\n",
      "Generation 263: Best fitness 0.8625\n",
      "Generation 264: Best fitness 0.8625\n",
      "Generation 265: Best fitness 0.8625\n",
      "Generation 266: Best fitness 0.8625\n",
      "Generation 267: Best fitness 0.8625\n",
      "Generation 268: Best fitness 0.8625\n",
      "Generation 269: Best fitness 0.8625\n",
      "Generation 270: Best fitness 0.8625\n",
      "Generation 271: Best fitness 0.8625\n",
      "Generation 272: Best fitness 0.8625\n",
      "Generation 273: Best fitness 0.8625\n",
      "Generation 274: Best fitness 0.8625\n",
      "Generation 275: Best fitness 0.8625\n",
      "Generation 276: Best fitness 0.8625\n",
      "Generation 277: Best fitness 0.8625\n",
      "Generation 278: Best fitness 0.8625\n",
      "Generation 279: Best fitness 0.8625\n",
      "Generation 280: Best fitness 0.8625\n",
      "Generation 281: Best fitness 0.8625\n",
      "Generation 282: Best fitness 0.8625\n",
      "Generation 283: Best fitness 0.8625\n",
      "Generation 284: Best fitness 0.8625\n",
      "Generation 285: Best fitness 0.8625\n",
      "Generation 286: Best fitness 0.8625\n",
      "Generation 287: Best fitness 0.8625\n",
      "Generation 288: Best fitness 0.8625\n",
      "Generation 289: Best fitness 0.8625\n",
      "Generation 290: Best fitness 0.8625\n",
      "Generation 291: Best fitness 0.8625\n",
      "Generation 292: Best fitness 0.8625\n",
      "Generation 293: Best fitness 0.8625\n",
      "Generation 294: Best fitness 0.8625\n",
      "Generation 295: Best fitness 0.8625\n",
      "Generation 296: Best fitness 0.8625\n",
      "Generation 297: Best fitness 0.8625\n",
      "Generation 298: Best fitness 0.8625\n",
      "Generation 299: Best fitness 0.8625\n"
     ]
    }
   ],
   "source": [
    "ga.evolution()"
   ],
   "metadata": {
    "collapsed": false,
    "ExecuteTime": {
     "end_time": "2024-01-14T23:05:39.762534Z",
     "start_time": "2024-01-14T23:03:52.046716Z"
    }
   },
   "id": "21b165625e3cab70",
   "execution_count": 15
  },
  {
   "cell_type": "code",
   "outputs": [],
   "source": [
    "top_performing_cas = ga.get_top_n_fittest_individuals(3)"
   ],
   "metadata": {
    "collapsed": false,
    "ExecuteTime": {
     "end_time": "2024-01-14T23:05:59.813603Z",
     "start_time": "2024-01-14T23:05:59.807913Z"
    }
   },
   "id": "9b013e59bc12b467",
   "execution_count": 16
  },
  {
   "cell_type": "code",
   "outputs": [
    {
     "data": {
      "text/plain": "<Figure size 1000x600 with 1 Axes>",
      "image/png": "[encoded data removed]"
     },
     "metadata": {},
     "output_type": "display_data"
    },
    {
     "data": {
      "text/plain": "<Figure size 1000x600 with 1 Axes>",
      "image/png": "[encoded data removed]"
     },
     "metadata": {},
     "output_type": "display_data"
    },
    {
     "data": {
      "text/plain": "<Figure size 1000x600 with 1 Axes>",
      "image/png": "[encoded data removed]"
     },
     "metadata": {},
     "output_type": "display_data"
    }
   ],
   "source": [
    "for ca_item in top_performing_cas:\n",
    "    visualize_current_state(ca_item['individual'], ca_item['fitness'])"
   ],
   "metadata": {
    "collapsed": false,
    "ExecuteTime": {
     "end_time": "2024-01-14T23:06:00.631953Z",
     "start_time": "2024-01-14T23:06:00.525350Z"
    }
   },
   "id": "13d8d0ff9f1224ca",
   "execution_count": 17
  },
  {
   "cell_type": "code",
   "outputs": [],
   "source": [],
   "metadata": {
    "collapsed": false,
    "ExecuteTime": {
     "end_time": "2024-01-14T23:06:01.264249Z",
     "start_time": "2024-01-14T23:06:01.256934Z"
    }
   },
   "id": "54e322bd585e2e3f",
   "execution_count": 17
  },
  {
   "cell_type": "code",
   "outputs": [],
   "source": [],
   "metadata": {
    "collapsed": false
   },
   "id": "65504d62205e8b63"
  }
 ],
 "metadata": {
  "kernelspec": {
   "display_name": "Python 3",
   "language": "python",
   "name": "python3"
  },
  "language_info": {
   "codemirror_mode": {
    "name": "ipython",
    "version": 2
   },
   "file_extension": ".py",
   "mimetype": "text/x-python",
   "name": "python",
   "nbconvert_exporter": "python",
   "pygments_lexer": "ipython2",
   "version": "2.7.6"
  }
 },
 "nbformat": 4,
 "nbformat_minor": 5
}
