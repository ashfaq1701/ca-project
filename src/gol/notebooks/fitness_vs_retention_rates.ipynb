{
 "cells": [
  {
   "cell_type": "code",
   "execution_count": 4,
   "id": "initial_id",
   "metadata": {
    "collapsed": true,
    "ExecuteTime": {
     "end_time": "2024-01-18T00:07:35.838892Z",
     "start_time": "2024-01-18T00:07:35.647920Z"
    }
   },
   "outputs": [],
   "source": [
    "from gol.patterns import get_and_save_pattern_1, get_and_save_pattern_2\n",
    "\n",
    "patterns = [\n",
    "    get_and_save_pattern_1(20, 20, 5),\n",
    "    get_and_save_pattern_2(20, 20, 5)\n",
    "]"
   ]
  },
  {
   "cell_type": "code",
   "outputs": [],
   "source": [
    "mae_export_path = \"../../../data/reports/gol-ga/varying_retention_rate/mae/pattern_{pattern_idx}.png\"\n",
    "mae_title = \"Game of Life Fitness vs Retention Rates, Pattern {pattern_idx}, MAE\""
   ],
   "metadata": {
    "collapsed": false,
    "ExecuteTime": {
     "end_time": "2024-01-18T00:07:35.843115Z",
     "start_time": "2024-01-18T00:07:35.839521Z"
    }
   },
   "id": "69d22fe95c06fc59",
   "execution_count": 5
  },
  {
   "cell_type": "code",
   "outputs": [
    {
     "name": "stdout",
     "output_type": "stream",
     "text": [
      "\n",
      "\n",
      "#### Evolving Pattern 1, Repeat 0 ####\n",
      "\n",
      "Generation 0: Best fitness 0.835\n",
      "Generation 1: Best fitness 0.84\n",
      "Generation 2: Best fitness 0.84\n",
      "Generation 3: Best fitness 0.84\n",
      "Generation 4: Best fitness 0.84\n",
      "Generation 5: Best fitness 0.845\n",
      "Generation 6: Best fitness 0.845\n",
      "Generation 7: Best fitness 0.845\n",
      "Generation 8: Best fitness 0.85\n",
      "Generation 9: Best fitness 0.85\n",
      "Generation 10: Best fitness 0.85\n",
      "Generation 11: Best fitness 0.8575\n",
      "Generation 12: Best fitness 0.8575\n",
      "Generation 13: Best fitness 0.8575\n",
      "Generation 14: Best fitness 0.8575\n",
      "Generation 15: Best fitness 0.8675\n",
      "Generation 16: Best fitness 0.8675\n",
      "Generation 17: Best fitness 0.8675\n",
      "Generation 18: Best fitness 0.8675\n",
      "Generation 19: Best fitness 0.8675\n",
      "Generation 20: Best fitness 0.8675\n",
      "Generation 21: Best fitness 0.8675\n",
      "Generation 22: Best fitness 0.8675\n",
      "Generation 23: Best fitness 0.8675\n",
      "Generation 24: Best fitness 0.8675\n",
      "Generation 25: Best fitness 0.8675\n",
      "Generation 26: Best fitness 0.8675\n",
      "Generation 27: Best fitness 0.8675\n",
      "Generation 28: Best fitness 0.8675\n",
      "Generation 29: Best fitness 0.8675\n",
      "Generation 30: Best fitness 0.8675\n",
      "Generation 31: Best fitness 0.8675\n",
      "Generation 32: Best fitness 0.8675\n",
      "Generation 33: Best fitness 0.8675\n",
      "Generation 34: Best fitness 0.8675\n",
      "Generation 35: Best fitness 0.8675\n",
      "Generation 36: Best fitness 0.8675\n",
      "Generation 37: Best fitness 0.8675\n",
      "Generation 38: Best fitness 0.8675\n",
      "Generation 39: Best fitness 0.8675\n",
      "Generation 40: Best fitness 0.8675\n",
      "Generation 41: Best fitness 0.8875\n",
      "Generation 42: Best fitness 0.8875\n",
      "Generation 43: Best fitness 0.8875\n",
      "Generation 44: Best fitness 0.8875\n",
      "Generation 45: Best fitness 0.8875\n",
      "Generation 46: Best fitness 0.8875\n",
      "Generation 47: Best fitness 0.8875\n",
      "Generation 48: Best fitness 0.8875\n",
      "Generation 49: Best fitness 0.8875\n",
      "Generation 50: Best fitness 0.8875\n",
      "Generation 51: Best fitness 0.8875\n",
      "Generation 52: Best fitness 0.8875\n",
      "Generation 53: Best fitness 0.8875\n",
      "Generation 54: Best fitness 0.8875\n",
      "Generation 55: Best fitness 0.8875\n",
      "Generation 56: Best fitness 0.8875\n",
      "Generation 57: Best fitness 0.8875\n",
      "Generation 58: Best fitness 0.8875\n",
      "Generation 59: Best fitness 0.8875\n",
      "Generation 60: Best fitness 0.8875\n",
      "Generation 61: Best fitness 0.8875\n",
      "Generation 62: Best fitness 0.8875\n",
      "Generation 63: Best fitness 0.8875\n",
      "Generation 64: Best fitness 0.8875\n",
      "Generation 65: Best fitness 0.8875\n",
      "Generation 66: Best fitness 0.8875\n",
      "Generation 67: Best fitness 0.8875\n",
      "Generation 68: Best fitness 0.8875\n",
      "Generation 69: Best fitness 0.8875\n",
      "Generation 70: Best fitness 0.8875\n",
      "Generation 71: Best fitness 0.8875\n",
      "Generation 72: Best fitness 0.8875\n",
      "Generation 73: Best fitness 0.8875\n",
      "Generation 74: Best fitness 0.8875\n",
      "Generation 75: Best fitness 0.9\n",
      "Generation 76: Best fitness 0.9\n",
      "Generation 77: Best fitness 0.9\n",
      "Generation 78: Best fitness 0.9\n",
      "Generation 79: Best fitness 0.9\n",
      "Generation 80: Best fitness 0.9\n",
      "Generation 81: Best fitness 0.9\n",
      "Generation 82: Best fitness 0.9\n",
      "Generation 83: Best fitness 0.9\n",
      "Generation 84: Best fitness 0.9\n",
      "Generation 85: Best fitness 0.9\n",
      "Generation 86: Best fitness 0.9\n",
      "Generation 87: Best fitness 0.9\n",
      "Generation 88: Best fitness 0.9\n",
      "Generation 89: Best fitness 0.9\n",
      "Generation 90: Best fitness 0.9\n",
      "Generation 91: Best fitness 0.9\n",
      "Generation 92: Best fitness 0.9\n",
      "Generation 93: Best fitness 0.9\n",
      "Generation 94: Best fitness 0.9\n",
      "Generation 95: Best fitness 0.9\n",
      "Generation 96: Best fitness 0.9\n",
      "Generation 97: Best fitness 0.9\n",
      "Generation 98: Best fitness 0.9\n",
      "Generation 99: Best fitness 0.9\n",
      "Generation 100: Best fitness 0.9\n",
      "Generation 101: Best fitness 0.9\n",
      "Generation 102: Best fitness 0.9\n",
      "Generation 103: Best fitness 0.9\n",
      "Generation 104: Best fitness 0.9\n",
      "Generation 105: Best fitness 0.9\n",
      "Generation 106: Best fitness 0.9\n",
      "Generation 107: Best fitness 0.9\n",
      "Generation 108: Best fitness 0.9\n",
      "Generation 109: Best fitness 0.9\n",
      "Generation 110: Best fitness 0.9\n"
     ]
    }
   ],
   "source": [
    "import numpy as np\n",
    "import config\n",
    "from reports.varying_retention_rate import get_fitness_by_varying_retention_rates\n",
    "\n",
    "get_fitness_by_varying_retention_rates(\n",
    "    ca_name=config.CA_NAME_GAME_OF_LIFE,\n",
    "    patterns=patterns,\n",
    "    population_size=300,\n",
    "    n_generations=400,\n",
    "    crossover_rate=config.DEFAULT_CROSSOVER_RATE,\n",
    "    mutation_rate=config.DEFAULT_POPULATION_SIZE,\n",
    "    retention_rates=np.arange(0.1, 1.0, 0.1),\n",
    "    random_selection_rate=config.DEFAULT_RANDOM_SELECTION_RATE,\n",
    "    steps=config.DEFAULT_GOL_NUM_STEPS,\n",
    "    fitness_function_name=config.FITNESS_FUNCTION_MAE,\n",
    "    repeats=3,\n",
    "    title=mae_title,\n",
    "    export_path=mae_export_path\n",
    ")"
   ],
   "metadata": {
    "collapsed": false,
    "is_executing": true,
    "ExecuteTime": {
     "start_time": "2024-01-18T00:07:35.843212Z"
    }
   },
   "id": "b04b0d0d824d91d4",
   "execution_count": null
  },
  {
   "cell_type": "code",
   "outputs": [],
   "source": [
    "structural_similarity_export_path = \"../../../data/reports/gol-ga/varying_retention_rate/structural_similarity/pattern_{pattern_idx}.png\"\n",
    "structural_similarity_title = \"Game of Life Fitness vs Retention Rates, Pattern {pattern_idx}, Structural Similarity\""
   ],
   "metadata": {
    "collapsed": false,
    "is_executing": true
   },
   "id": "1b23a1ab2b026fce"
  },
  {
   "cell_type": "code",
   "outputs": [],
   "source": [
    "get_fitness_by_varying_retention_rates(\n",
    "    ca_name=config.CA_NAME_GAME_OF_LIFE,\n",
    "    patterns=patterns,\n",
    "    population_size=300,\n",
    "    n_generations=400,\n",
    "    crossover_rate=config.DEFAULT_CROSSOVER_RATE,\n",
    "    mutation_rate=config.DEFAULT_POPULATION_SIZE,\n",
    "    retention_rates=np.arange(0.1, 1.0, 0.1),\n",
    "    random_selection_rate=config.DEFAULT_RANDOM_SELECTION_RATE,\n",
    "    steps=config.DEFAULT_GOL_NUM_STEPS,\n",
    "    fitness_function_name=config.FITNESS_FUNCTION_STRUCTURAL_SIMILARITY,\n",
    "    repeats=3,\n",
    "    title=structural_similarity_title,\n",
    "    export_path=structural_similarity_export_path\n",
    ")"
   ],
   "metadata": {
    "collapsed": false,
    "is_executing": true
   },
   "id": "13c628b0e8b8f6a6"
  }
 ],
 "metadata": {
  "kernelspec": {
   "display_name": "Python 3",
   "language": "python",
   "name": "python3"
  },
  "language_info": {
   "codemirror_mode": {
    "name": "ipython",
    "version": 2
   },
   "file_extension": ".py",
   "mimetype": "text/x-python",
   "name": "python",
   "nbconvert_exporter": "python",
   "pygments_lexer": "ipython2",
   "version": "2.7.6"
  }
 },
 "nbformat": 4,
 "nbformat_minor": 5
}
